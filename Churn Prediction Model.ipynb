{
  "nbformat": 4,
  "nbformat_minor": 0,
  "metadata": {
    "colab": {
      "provenance": []
    },
    "kernelspec": {
      "name": "python3",
      "display_name": "Python 3"
    },
    "language_info": {
      "name": "python"
    }
  },
  "cells": [
    {
      "cell_type": "code",
      "source": [
        "!pip install pycaret  #install the pycaret library and import the libraries"
      ],
      "metadata": {
        "id": "Eh8DUOpzhzGA"
      },
      "execution_count": null,
      "outputs": []
    },
    {
      "cell_type": "code",
      "source": [
        "\n",
        "import pandas as pd\n",
        "from pycaret.regression import *"
      ],
      "metadata": {
        "id": "k9e4Iuphh1e0"
      },
      "execution_count": null,
      "outputs": []
    },
    {
      "cell_type": "markdown",
      "source": [
        "\n",
        "TRAINING OF MODEL\n"
      ],
      "metadata": {
        "id": "r2ceF5AUh3Q6"
      }
    },
    {
      "cell_type": "code",
      "source": [
        "data_train = pd.read_csv('trainingdata.csv') #import the data\n",
        "reg = setup(data=data_train, target='status', train_size=0.8, session_id=123) #set the data, prediction attribute, training size and seed value"
      ],
      "metadata": {
        "id": "NBtp3a8Gh5x9"
      },
      "execution_count": null,
      "outputs": []
    },
    {
      "cell_type": "code",
      "source": [
        "top8 = compare_models(n_select=8) #select the top 8 models having high accuracy"
      ],
      "metadata": {
        "id": "jxO8gwI0h87T"
      },
      "execution_count": null,
      "outputs": []
    },
    {
      "cell_type": "markdown",
      "source": [
        "\n",
        "BLENDING MODEL(VOTING/ENSEMBLING)\n"
      ],
      "metadata": {
        "id": "HlVXe6CDiFHb"
      }
    },
    {
      "cell_type": "code",
      "source": [
        "blended_model = blend_models(top8) #merge the model or perform ensembling technique in which we perform voting among these 8 regressors. If the number of vote for one output is high then that output should be selected"
      ],
      "metadata": {
        "id": "ck9cIew7iAkJ"
      },
      "execution_count": null,
      "outputs": []
    },
    {
      "cell_type": "code",
      "source": [
        "final_blended_model = finalize_model(blended_model)"
      ],
      "metadata": {
        "id": "jYCW6Z_BiGD_"
      },
      "execution_count": null,
      "outputs": []
    },
    {
      "cell_type": "code",
      "source": [
        "save_model(final_blended_model, 'final_blended_model')"
      ],
      "metadata": {
        "id": "mCz-4SzSiIYO"
      },
      "execution_count": null,
      "outputs": []
    },
    {
      "cell_type": "markdown",
      "source": [
        "\n",
        "MANNUAL TESTING"
      ],
      "metadata": {
        "id": "uek6d0d9iNDI"
      }
    },
    {
      "cell_type": "code",
      "source": [
        "#created new_data in which we store the feature value manually\n",
        "new_data = pd.DataFrame({\n",
        "    'smsid': [34936008],\n",
        "    'parentsmsid': [0],\n",
        "    'parentvcno': [0],\n",
        "    'last_ft_date': [45449.00],\n",
        "    'last_de_re_date': [45422.80],\n",
        "    'reasonmstrowid': [4],\n",
        "    'schemeid': [104759],\n",
        "    'zoneid': [12],\n",
        "    'dealer_rowid': [298771],\n",
        "    'typeofcustomerrowid': [10023],\n",
        "    'typeofdealer': [1],\n",
        "    'cityrowid': [15929],\n",
        "    'pin': [5726],\n",
        "    'formrecd': [0],\n",
        "    'valid_address': [0],\n",
        "    'fl_createdon': [43941.54],\n",
        "    'offer_type': ['SPTRI2001301046'],\n",
        "    'activation_zonal_dailyprice': [0],\n",
        "    'acquisition_expirydate': [44305.00],\n",
        "    'paylater_startdate': [0.00],\n",
        "    'last_ft_date_pr': [45454.00],\n",
        "    'date_time': [45444.00],  # Note: This value remains the same as before\n",
        "    'Customer_verified': [0],\n",
        "    'Customer_verfied_on': [0.00],\n",
        "    'Renewal_status': [4],\n",
        "    'Renewal_status_date': [44187.76],\n",
        "    'ztregionid': [20],\n",
        "    'FP_Flag': [0],\n",
        "    'FP_Start_Date': [0.00],\n",
        "    'FP_End_Date': [0.00],\n",
        "    'ztareaid': [0],\n",
        "    'Last_recharge_date': [45422.80],\n",
        "    'LastRechargeAmt': [230],\n",
        "    'NCFAmt': [115.64],\n",
        "    'ContentPrice': [146.46],\n",
        "    'FMR': [262.10]\n",
        "})"
      ],
      "metadata": {
        "id": "B4GkkkQWiNul"
      },
      "execution_count": null,
      "outputs": []
    },
    {
      "cell_type": "code",
      "source": [
        "predictions_new_data = predict_model(final_blended_model, data=new_data) #perform prediction on the manually added column\n",
        "\n",
        "print(predictions_new_data)"
      ],
      "metadata": {
        "id": "Jtt9SC7viQ65"
      },
      "execution_count": null,
      "outputs": []
    },
    {
      "cell_type": "code",
      "source": [
        "binary_predictions_new_data = (predictions_new_data['prediction_label'] >= 0.5).astype(int)\n",
        "print(binary_predictions_new_data) #converting the predicted value in form of 0 or 1(deactivated or  activated)"
      ],
      "metadata": {
        "id": "DPwZtbvhiTrw"
      },
      "execution_count": null,
      "outputs": []
    },
    {
      "cell_type": "markdown",
      "source": [
        "PREDICTION ON GIVEN DATA(TRAINING DATA)\n"
      ],
      "metadata": {
        "id": "LXojJ-XYiXgH"
      }
    },
    {
      "cell_type": "code",
      "source": [
        "predictions_new = predict_model(final_blended_model, data=data_train)\n",
        "print(predictions_new) #performing prediction on the training data that is provided"
      ],
      "metadata": {
        "id": "-ydXrBzpiYOc"
      },
      "execution_count": null,
      "outputs": []
    },
    {
      "cell_type": "code",
      "source": [
        "binary_predictions_train = (predictions_new['prediction_label'] >= 0.5).astype(int)\n",
        "print(binary_predictions_train) #converting the prediction value in form of 0 or 1"
      ],
      "metadata": {
        "id": "55isne-7iatP"
      },
      "execution_count": null,
      "outputs": []
    },
    {
      "cell_type": "markdown",
      "source": [
        "PREDICTING ON TESTING DATA"
      ],
      "metadata": {
        "id": "LBE-hBU7iedo"
      }
    },
    {
      "cell_type": "code",
      "source": [
        "loaded_blended_model = load_model('final_blended_model') #store the voting model in loaded_blended_model"
      ],
      "metadata": {
        "id": "WTOLS6sFicU2"
      },
      "execution_count": null,
      "outputs": []
    },
    {
      "cell_type": "code",
      "source": [
        "data_test = pd.read_csv('testing2.csv') #fetching the testing data"
      ],
      "metadata": {
        "id": "CXbBpkEeigxP"
      },
      "execution_count": null,
      "outputs": []
    },
    {
      "cell_type": "code",
      "source": [
        "predictions_test_data1 = predict_model(loaded_blended_model, data=data_test) #now performing the prediction on the testing data\n",
        "print(predictions_test_data1)"
      ],
      "metadata": {
        "id": "hke-BWSNij3X"
      },
      "execution_count": null,
      "outputs": []
    },
    {
      "cell_type": "code",
      "source": [
        "binary_predictions_test_data = (predictions_test_data1['prediction_label'] >= 0.5).astype(int)\n",
        "print(binary_predictions_test_data) #convert testing data prediction in form of 0 or 1\n"
      ],
      "metadata": {
        "id": "Tyyt9zDBikpc"
      },
      "execution_count": null,
      "outputs": []
    },
    {
      "cell_type": "markdown",
      "source": [
        "ACCURACY FOR THE TRAINING DATA"
      ],
      "metadata": {
        "id": "giWSBs3zinG7"
      }
    },
    {
      "cell_type": "code",
      "source": [
        "#calculating the accuracy, precision, recall and f1- score for the training data\n",
        "from sklearn.metrics import accuracy_score, confusion_matrix , precision_score, f1_score, recall_score\n",
        "accuracy = accuracy_score(data_train['status'], binary_predictions_train)\n",
        "print(\"Accuracy Score:\", accuracy)\n",
        "\n",
        "precision = precision_score(data_train['status'], binary_predictions_train)\n",
        "print(\"precision score:\\n\", precision)\n",
        "\n",
        "recall = recall_score(data_train['status'], binary_predictions_train)\n",
        "print(\"Recall Score:\\n\", recall)\n",
        "\n",
        "F1 = f1_score(data_train['status'], binary_predictions_train)\n",
        "print(\"F1-score:\\n\", F1)"
      ],
      "metadata": {
        "id": "Z3rwLp5Qiqb3"
      },
      "execution_count": null,
      "outputs": []
    },
    {
      "cell_type": "markdown",
      "source": [
        "CONFUSION MATRIX FOR THE TRAINING DATA"
      ],
      "metadata": {
        "id": "BMFihewhivdo"
      }
    },
    {
      "cell_type": "code",
      "source": [
        "#calculating the confusion matrix for the training data\n",
        "cm = confusion_matrix(data_train['status'], binary_predictions_train)\n",
        "print(\"Confusion Matrix:\\n\", cm)"
      ],
      "metadata": {
        "id": "pazMtEb5ixBJ"
      },
      "execution_count": null,
      "outputs": []
    },
    {
      "cell_type": "markdown",
      "source": [
        "GRAPH BETWEEN ACTUAL AND PREDICTED VALUE"
      ],
      "metadata": {
        "id": "1BceYx-dizh0"
      }
    },
    {
      "cell_type": "code",
      "source": [
        "#plotting graph between actual and predicted value in the training dataset\n",
        "\n",
        "import plotly.express as px\n",
        "import pandas as pd"
      ],
      "metadata": {
        "id": "381tM53Di0MU"
      },
      "execution_count": null,
      "outputs": []
    },
    {
      "cell_type": "code",
      "source": [
        "# Create a DataFrame to hold both actual and predicted values for plotting\n",
        "plot_data = pd.DataFrame({\n",
        "    'Actual Status': data_train['status'],\n",
        "    'Predicted Label': predictions_new['prediction_label']\n",
        "})\n"
      ],
      "metadata": {
        "id": "vBQuefNli3Qa"
      },
      "execution_count": null,
      "outputs": []
    },
    {
      "cell_type": "code",
      "source": [
        "\n",
        "# Add an index column to act as a third dimension\n",
        "plot_data['Index'] = plot_data.index\n"
      ],
      "metadata": {
        "id": "thl40TsPi4tc"
      },
      "execution_count": null,
      "outputs": []
    },
    {
      "cell_type": "code",
      "source": [
        "# Create a 3D scatter plot\n",
        "fig = px.scatter_3d(\n",
        "    plot_data,\n",
        "    x='Index',\n",
        "    y='Actual Status',\n",
        "    z='Predicted Label',\n",
        "    color='Actual Status',\n",
        "    title='3D Scatter Plot of Actual vs Predicted Status'\n",
        ")\n",
        "\n",
        "# Show the plot\n",
        "fig.show()"
      ],
      "metadata": {
        "id": "TvElpJboi6WC"
      },
      "execution_count": null,
      "outputs": []
    }
  ]
}